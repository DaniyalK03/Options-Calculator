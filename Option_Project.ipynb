{
  "cells": [
    {
      "cell_type": "markdown",
      "metadata": {
        "id": "view-in-github",
        "colab_type": "text"
      },
      "source": [
        "<a href=\"https://colab.research.google.com/github/DaniyalK03/Options-Calculator/blob/main/Option_Project.ipynb\" target=\"_parent\"><img src=\"https://colab.research.google.com/assets/colab-badge.svg\" alt=\"Open In Colab\"/></a>"
      ]
    },
    {
      "cell_type": "code",
      "execution_count": null,
      "metadata": {
        "id": "1sLivE6QmF1Z"
      },
      "outputs": [],
      "source": [
        "################################################################################\n",
        "\n",
        "# Importing standard backend and libraries\n",
        "\n",
        "#Import standard libraries and imageio to read in the images\n",
        "import imageio.v3 as imageio\n",
        "import numpy as np\n",
        "import matplotlib.pyplot as plt\n",
        "import pandas as pd\n",
        "import os\n",
        "\n",
        "import math\n",
        "\n",
        "# Importing TensorFlow and tf.keras\n",
        "import tensorflow as tf\n",
        "from tensorflow import keras"
      ]
    },
    {
      "cell_type": "code",
      "execution_count": null,
      "metadata": {
        "id": "cxOlSFaamMd3"
      },
      "outputs": [],
      "source": [
        "from scipy.stats import norm\n",
        "import numpy as np\n",
        "\n",
        "def BS_option(S0, K, T, r, sigma, option_type = \"\"):\n",
        "  \"\"\"\n",
        "\n",
        "  This function prices European Call & Put options using the Black-Scholes Model given\n",
        "\n",
        "  S0 = Price of the stock today\n",
        "  K = Strike Price\n",
        "  T = Time to Maturity in Years\n",
        "  r = Risk-free interest rate as Percent\n",
        "  sigma = Volatility\n",
        "\n",
        "  The result is the price of the option today\n",
        "\n",
        "  \"\"\"\n",
        "  r = r/100\n",
        "  d1 = (np.log(S0/K) + (r + (sigma**2)/2) * T) / (sigma * np.sqrt(T))\n",
        "  d2 = d1 - (sigma * np.sqrt(T))\n",
        "  if option_type == \"Call\":\n",
        "    return print(f\"Call Price = {S0 * norm.cdf(d1) - K * np.exp(-r * T) * norm.cdf(d2):0.2f}\")\n",
        "  elif option_type == \"Put\":\n",
        "    return print(f\"Put Price = {K * np.exp(-r * T) * norm.cdf(-d2) - S0 * norm.cdf(-d1):0.2f}\")\n",
        "  else:\n",
        "    print(\"ERROR, Please ensure you have specified an option with proper capitalisation\")"
      ]
    },
    {
      "cell_type": "code",
      "execution_count": null,
      "metadata": {
        "colab": {
          "base_uri": "https://localhost:8080/"
        },
        "id": "FvOJLAUGmcA5",
        "outputId": "bfba47bf-75ae-4859-90bb-f4faffaacdf1"
      },
      "outputs": [
        {
          "output_type": "stream",
          "name": "stdout",
          "text": [
            "Call Price = 2.00\n",
            "Put Price = 9.29\n"
          ]
        }
      ],
      "source": [
        "#BS_option(100, 100, 1, 8, 0.1, \"Call\")\n",
        "#BS_option(100, 100, 1, 8, 0.1, \"Put\")\n",
        "#BS_option(17.99, 15, 1, 5, 0.012, \"Call\")\n",
        "BS_option(116.37, 130, 1, 5, 0.1, \"Call\")\n",
        "BS_option(116.37, 130, 1, 5, 0.1, \"Put\")"
      ]
    },
    {
      "cell_type": "code",
      "execution_count": null,
      "metadata": {
        "id": "CwEzoFTLjAzl"
      },
      "outputs": [],
      "source": [
        "def Arbitrage(S0, K, T, r, call_price, put_price):\n",
        "\n",
        "  call_price = float(call_price)\n",
        "  put_price = float(put_price)\n",
        "\n",
        "  r = r/100\n",
        "  r = float(r)\n",
        "  S0 = float(S0)\n",
        "  K = float(K)\n",
        "  T = float(T)\n",
        "\n",
        "  lhs = put_price + S0\n",
        "  rhs = call_price + K*np.exp(-r*T)\n",
        "\n",
        "  avg_value = (lhs + rhs) / 2\n",
        "  tolerance = 1e-5 * avg_value\n",
        "\n",
        "  print(f\"Tolerance: {tolerance} \\n\")\n",
        "\n",
        "\n",
        "  if lhs < rhs - tolerance:\n",
        "    arbitrage_profit = rhs - lhs\n",
        "\n",
        "    # Show profit with precision based on the arbitrage size\n",
        "    if round(arbitrage_profit, 2) > 0:\n",
        "      print(f\"Put-Call Parity Theorem states Put is underpriced relative to the Call.\")\n",
        "      print(f\"Final Arbitrage Profit = {arbitrage_profit:0.2f}\")\n",
        "      print(f\"\\n Buy Put & Buy Stock \\n Sell Call \\n Invest cash difference into bank account to earn compound interest. \\n Exercise option at {T} years. \\n\")\n",
        "    else:\n",
        "      print(f\"Put-Call Parity Theorem states the options are priced fairly and there is no arbitrage.\\n\")\n",
        "\n",
        "\n",
        "  elif lhs > rhs + tolerance:\n",
        "    arbitrage_profit = lhs - rhs\n",
        "\n",
        "    # Show profit with precision based on the arbitrage size\n",
        "    if round(arbitrage_profit, 2) > 0:\n",
        "      print(f\"Put-Call Parity Theorem states Put is overpriced relative to the Call.\")\n",
        "      print(f\"Final Arbitrage Profit = {arbitrage_profit:0.2f}\")\n",
        "      print(f\"\\n Sell Put & Sell Stock \\n Buy Call \\n Invest cash difference into bank account to earn compound interest. \\n Exercise option at {T} years. \\n\")\n",
        "    else:\n",
        "      print(f\"Put-Call Parity Theorem states the options are priced fairly and there is no arbitrage.\\n\")\n",
        "\n",
        "\n",
        "  else:\n",
        "    print(\"Put-Call Parity Theorem states the options are priced fairly and there is no arbitrage.\\n\")"
      ]
    },
    {
      "cell_type": "code",
      "execution_count": null,
      "metadata": {
        "colab": {
          "base_uri": "https://localhost:8080/"
        },
        "id": "tN9_PmwSb9xQ",
        "outputId": "e3d15952-8b31-4dc0-a9de-80637ba57492"
      },
      "outputs": [
        {
          "output_type": "stream",
          "name": "stdout",
          "text": [
            "Tolerance: 0.001019058173193318 \n",
            "\n",
            "Put-Call Parity Theorem states Put is overpriced relative to the Call.\n",
            "Final Arbitrage Profit = 5.19\n",
            "\n",
            " Sell Put & Sell Stock \n",
            " Buy Call \n",
            " Invest cash difference into bank account to earn compound interest. \n",
            " Exercise option at 1.0 years. \n",
            "\n",
            "Tolerance: 0.0012565991259254642 \n",
            "\n",
            "Put-Call Parity Theorem states the options are priced fairly and there is no arbitrage.\n",
            "\n"
          ]
        }
      ],
      "source": [
        "#Arbitrage(100, 100, 1, 8, 8.84, 1.15)\n",
        "#Arbitrage(100, 100, 1, 8, 10.50, 0.50)\n",
        "Arbitrage(100, 100, 1, 8, 7.00, 4.50)\n",
        "Arbitrage(116.37, 130, 1, 5, 2, 9.29)"
      ]
    },
    {
      "cell_type": "code",
      "execution_count": null,
      "metadata": {
        "id": "VeT1nQErqJbB"
      },
      "outputs": [],
      "source": [
        "def binomial_tree(S, K, T, r, sigma, n=100, option_type='call'):\n",
        "    dt = T/n\n",
        "    u = np.exp(sigma * np.sqrt(dt))\n",
        "    d = 1/u\n",
        "    p = (np.exp(r * dt) - d) / (u - d)\n",
        "    # Initialize stock price tree\n",
        "    stock_tree = np.zeros((n+1, n+1))\n",
        "    option_tree = np.zeros((n+1, n+1))\n",
        "\n",
        "    # Stock prices at maturity\n",
        "    for i in range(n+1):\n",
        "        stock_tree[i, n] = S * (u ** (n-i)) * (d ** i)\n",
        "\n",
        "    # Option payoffs at maturity\n",
        "    if option_type == 'call':\n",
        "        option_tree[:, n] = np.maximum(0, stock_tree[:, n] - K)\n",
        "    else:\n",
        "        option_tree[:, n] = np.maximum(0, K - stock_tree[:, n])\n",
        "\n",
        "    # Backward induction\n",
        "    for j in range(n-1, -1, -1):\n",
        "        for i in range(j+1):\n",
        "            option_tree[i, j] = np.exp(-r * dt) * (p * option_tree[i, j+1] + (1-p) * option_tree[i+1, j+1])\n",
        "    return option_tree[0, 0]"
      ]
    },
    {
      "cell_type": "code",
      "execution_count": null,
      "metadata": {
        "id": "RBVMLLLlbzcE"
      },
      "outputs": [],
      "source": []
    }
  ],
  "metadata": {
    "colab": {
      "provenance": [],
      "authorship_tag": "ABX9TyMQd/qA/GUM4RTOLRCEFJER",
      "include_colab_link": true
    },
    "kernelspec": {
      "display_name": "Python 3",
      "name": "python3"
    },
    "language_info": {
      "name": "python"
    }
  },
  "nbformat": 4,
  "nbformat_minor": 0
}